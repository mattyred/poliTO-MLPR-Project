{
 "cells": [
  {
   "cell_type": "markdown",
   "id": "35da2e36-dac3-4ef2-a45f-3537b0bdae1b",
   "metadata": {},
   "source": [
    "# Data Inspection"
   ]
  },
  {
   "cell_type": "code",
   "execution_count": 7,
   "id": "13f8258f-1013-4d55-bac0-340deb8da335",
   "metadata": {},
   "outputs": [],
   "source": [
    "import numpy as np\n",
    "import matplotlib.pyplot as plt"
   ]
  },
  {
   "cell_type": "code",
   "execution_count": 116,
   "id": "9faacd1c-ac44-4514-8717-eb34368ff8ed",
   "metadata": {},
   "outputs": [],
   "source": [
    "# Constant values\n",
    "NFEATURES = 12 # Num Features\n",
    "NTSAMPLES = 6000 # Num Training Samples"
   ]
  },
  {
   "cell_type": "code",
   "execution_count": 119,
   "id": "8baa65ca-84f8-4928-820d-35f1cf382de3",
   "metadata": {},
   "outputs": [],
   "source": [
    "# Dataset reading\n",
    "DT = np.zeros(shape=(NFEATURES,NTSAMPLES), dtype='float32') # Data Training\n",
    "LT = np.zeros(NTSAMPLES, dtype='int32') # Labels Training\n",
    "with open('../Data/Train.txt','r') as file:\n",
    "    i = 0\n",
    "    for line in file:\n",
    "        features_list = line.split(',')\n",
    "        features = np.array(features_list[0:NFEATURES], dtype='float32').reshape(-1,1)\n",
    "        label = int(features_list[-1])\n",
    "        DT[:,i:i+1] = features\n",
    "        LT[i] = label\n",
    "        i += 1"
   ]
  },
  {
   "cell_type": "code",
   "execution_count": 130,
   "id": "1876f0e8-e9d9-4447-99f7-23c8deceebdd",
   "metadata": {},
   "outputs": [
    {
     "data": {
      "image/png": "[encoded data removed]",
      "text/plain": [
       "<Figure size 432x288 with 1 Axes>"
      ]
     },
     "metadata": {
      "needs_background": "light"
     },
     "output_type": "display_data"
    }
   ],
   "source": [
    "DT_male = DT[:,LT==0]\n",
    "DT_female = DT[:,LT==1]\n",
    "for i in range(1):\n",
    "    plt.hist(DT_male[:,i], bins=10, density=True, alpha=0.4)\n",
    "    plt.hist(DT_female[:,i], bins=10, density=True, alpha=0.4)\n",
    "    plt.legend(['male','female'])"
   ]
  },
  {
   "cell_type": "code",
   "execution_count": null,
   "id": "f3423bef-f9df-4d36-9baa-1ad771c7ca7b",
   "metadata": {},
   "outputs": [],
   "source": []
  }
 ],
 "metadata": {
  "kernelspec": {
   "display_name": "Python 3 (ipykernel)",
   "language": "python",
   "name": "python3"
  },
  "language_info": {
   "codemirror_mode": {
    "name": "ipython",
    "version": 3
   },
   "file_extension": ".py",
   "mimetype": "text/x-python",
   "name": "python",
   "nbconvert_exporter": "python",
   "pygments_lexer": "ipython3",
   "version": "3.9.7"
  }
 },
 "nbformat": 4,
 "nbformat_minor": 5
}
